{
 "cells": [
  {
   "cell_type": "markdown",
   "id": "3f45e869-5b92-4a1e-966c-2c31ee869d2f",
   "metadata": {},
   "source": [
    "# Convolutional Neural Networks\n",
    "\n",
    "Convolutional Neural Networks (CNNs) are a specialized type of artificial neural network designed to process data structured in a grid, such as images. CNNs are commonly used in tasks like image recognition, object detection, and video analysis due to their ability to learn spatial hierarchies of features.\n",
    "\n",
    "## Key Components of CNNs:\n",
    "- Convolutional Layers:\n",
    "  Convolutional layers are CNNs' prominent distinguishing feature from other neural network architectures. The convolutional layers correspond to filters (kernels) slid across the input data to extract local features. Each filter detects different patterns, such as edges or textures.\n",
    "- Pooling Layers:\n",
    "  - Pooling layers reduce the data's spatial dimensions (height and width) using techniques like max pooling or average pooling. Pooling reduces the number of parameters, reduces computational costs, and helps limit overfitting.\n",
    "- Activation Functions:\n",
    "  Activation functions, such as ReLU, are applied to introduce non-linearity into the model, allowing the network to learn more complex patterns.\n",
    "- Fully Connected Layers:\n",
    "  - In a CNN, fully connected layers are applied near the network's end to combine features learned by the convolutional and pooling layers to make final predictions.\n",
    "\n",
    "## Benefits of CNNs\n",
    "CNNs extract low-level features, such as edges and corners, in early layers. In deeper layers, the low-level features are progressively combined into higher-level patterns, such as shapes and objects.\n",
    "- Weight sharing in the convolutional layers significantly reduces the number of parameters compared to fully connected networks.\n",
    "- CNNs can recognize objects in images regardless of their position, making them robust to spatial transformations.\n",
    "- CNNs automatically learn relevant features from the raw data, reducing the need for manual feature engineering.\n",
    "- CNNs have achieved state-of-the-art results in many computer vision tasks.\n",
    "\n",
    "In this notebook, we will use the simple MNSIT data to understand various aspects of CNNs. The following code block imports libraries we will use."
   ]
  },
  {
   "cell_type": "code",
   "execution_count": 1,
   "id": "9ed000bb-d61c-40c3-9edf-a9d4e1f7845d",
   "metadata": {},
   "outputs": [],
   "source": [
    "import pathlib\n",
    "import time\n",
    "\n",
    "import ipywidgets\n",
    "import matplotlib.pyplot as plt\n",
    "import numpy as np\n",
    "import polars as pl\n",
    "import seaborn as sns\n",
    "from sklearn.metrics.pairwise import cosine_similarity\n",
    "from sklearn.model_selection import train_test_split\n",
    "import torch\n",
    "import torch.nn as nn\n",
    "import torch.optim as optim\n",
    "from torch.utils.data import DataLoader, Dataset\n",
    "from tqdm.auto import tqdm"
   ]
  },
  {
   "cell_type": "markdown",
   "id": "a51c58bb-b25c-4543-aee2-172f72b53284",
   "metadata": {},
   "source": [
    "The following code block sets the random seed for PyTorch. This should ensure stable results if the notebook is run top-to-bottom, i.e., \"Restart and Run All Cells.\" It will not guarantee reproducibility otherwise."
   ]
  },
  {
   "cell_type": "code",
   "execution_count": 2,
   "id": "075283bf-baf0-4bbf-b936-c061b4e4af43",
   "metadata": {},
   "outputs": [
    {
     "data": {
      "text/plain": [
       "<torch._C.Generator at 0x76435e748a70>"
      ]
     },
     "execution_count": 2,
     "metadata": {},
     "output_type": "execute_result"
    }
   ],
   "source": [
    "torch.manual_seed(0)"
   ]
  },
  {
   "cell_type": "markdown",
   "id": "96754932-5576-44bd-88ad-e285cab46e86",
   "metadata": {},
   "source": [
    "The following code block loads the MNIST feature and target data. One-hot-encoding is applied to the target data."
   ]
  },
  {
   "cell_type": "code",
   "execution_count": 3,
   "id": "162bdf3e-6f3b-4128-94fb-06eca203610c",
   "metadata": {},
   "outputs": [],
   "source": [
    "feature_data_filepath = pathlib.Path('data/mnist_features.parquet')\n",
    "target_data_filepath = pathlib.Path('data/mnist_target.parquet')\n",
    "\n",
    "feature_data = pl.read_parquet(\n",
    "    feature_data_filepath\n",
    ").with_columns(\n",
    "    pl.all()/255.0\n",
    ")\n",
    "\n",
    "target_data = pl.read_parquet(\n",
    "    target_data_filepath\n",
    ").cast(\n",
    "    pl.Int32\n",
    ").to_dummies()"
   ]
  },
  {
   "cell_type": "markdown",
   "id": "01d7bae5-0ee2-4d42-8db3-7445fc9e6149",
   "metadata": {},
   "source": [
    "The following code block extracts and plots one of the images from the MNIST feature data"
   ]
  },
  {
   "cell_type": "code",
   "execution_count": 4,
   "id": "222db986-9f9c-44ca-9fe2-b69222997828",
   "metadata": {},
   "outputs": [
    {
     "data": {
      "image/png": "[encoded data removed]",
      "text/plain": [
       "<Figure size 500x500 with 1 Axes>"
      ]
     },
     "metadata": {},
     "output_type": "display_data"
    }
   ],
   "source": [
    "test_image = feature_data[0].to_numpy().reshape(28, 28)\n",
    "\n",
    "fig, ax = plt.subplots(1, 1, figsize=(5, 5))\n",
    "\n",
    "ax.imshow(\n",
    "    test_image,\n",
    "    cmap='gray', \n",
    "    vmin=0, \n",
    "    vmax=1\n",
    ")\n",
    "\n",
    "plt.show()"
   ]
  },
  {
   "cell_type": "markdown",
   "id": "d97d061e-34dc-4d0c-a9b0-0257e3a5b761",
   "metadata": {},
   "source": [
    "# Understanding Convolutional Layers\n",
    "\n",
    "As mentioned earlier, convolutional layers are the prominent distinguishing feature of CNNs from other neural network architectures. The convolutional layers correspond to filters (kernels) slid across the input data to extract local features. Each filter detects different patterns, such as edges or textures. The step size used to slide the filter over the image is called the *stride*. Depending on how the stride is set, some regions of an image may not be included in the features map that results from applying a convolutional filter. Sometimes, padding is added around the input to ensure that edge features are captured.\n",
    "\n",
    "The following formula can be used to define the output size that will result from applying a convolutional filter.\n",
    "\n",
    "$\\displaystyle \\mbox{Output Size}=\\left\\lfloor \\frac{W−K+2P}{S} + 1\\right\\rfloor,$ where:\n",
    "\n",
    "$W$ = input size (width/height),</br>\n",
    "$K$ = kernel size,</br>\n",
    "$P$ = padding,</br>\n",
    "$S$ = stride.</br>\n",
    "\n",
    "When applying a filter to a given set of pixels, the filter values are multiplied by the pixel values, and the sum is computed and returned.\n",
    "\n",
    "The following code block shows the result of applying a filter known as a Sobel filter to our test image. The filter size is $ 3 \\times 3$, and the code uses a stride of 2 with no padding. This is sometimes referred to as *valid padding* because the window only slides over the valid parts of the input image."
   ]
  },
  {
   "cell_type": "code",
   "execution_count": 5,
   "id": "e7fac7f6-184d-450e-8725-552a16080ba4",
   "metadata": {},
   "outputs": [
    {
     "data": {
      "image/png": "[encoded data removed]",
      "text/plain": [
       "<Figure size 1000x1000 with 2 Axes>"
      ]
     },
     "metadata": {},
     "output_type": "display_data"
    }
   ],
   "source": [
    "sobel_filter = np.array([\n",
    "    [-1, 0, 1], \n",
    "    [-2, 0, 2],\n",
    "    [-1, 0, 1]\n",
    "])\n",
    "\n",
    "filter_size = len(sobel_filter)\n",
    "stride = 2\n",
    "padding = 0\n",
    "\n",
    "conv_output_height = np.floor((test_image.shape[0] - filter_size - 2*padding)/stride + 1).astype(np.int32)\n",
    "conv_output_width =  np.floor((test_image.shape[1] - filter_size - 2*padding)/stride + 1).astype(np.int32)\n",
    "\n",
    "# Initialize the output matrix\n",
    "conv_output = np.zeros((conv_output_height, conv_output_width))\n",
    "\n",
    "for i in range(0, conv_output_height):\n",
    "    for j in range(0, conv_output_width):\n",
    "        row_start = i * stride\n",
    "        col_start = j * stride\n",
    "        \n",
    "        window = test_image[row_start:row_start + filter_size, col_start:col_start + filter_size]\n",
    "        conv_output[i, j] = np.sum(window * sobel_filter)\n",
    "\n",
    "mosaic = [\n",
    "    ['Original Image', 'Filter Output'],\n",
    "]\n",
    "plot_mapper = {\n",
    "    'Original Image': test_image,\n",
    "    'Filter Output': conv_output,\n",
    "}\n",
    "\n",
    "\n",
    "fig, ax = plt.subplot_mosaic(mosaic, figsize=(10, 10))\n",
    "\n",
    "for subplot_title, subplot_array in plot_mapper.items(): \n",
    "\n",
    "    ax[subplot_title].imshow(\n",
    "        subplot_array,\n",
    "        cmap='gray', \n",
    "    )\n",
    "    ax[subplot_title].set_title(subplot_title)\n",
    "\n",
    "plt.show()"
   ]
  },
  {
   "cell_type": "markdown",
   "id": "49ca4522-25f2-4118-a082-7c34b955464a",
   "metadata": {},
   "source": [
    "In a CNN, many convolutional filters are learned at each convolutional layer. Each filter learns weights that allow it to detect useful patterns for the downstream prediction task.\n",
    "\n",
    "# Understanding Pooling\n",
    "\n",
    "As mentioned earlier, pooling layers reduce the data's spatial dimensions (height and width) using techniques like max pooling or average pooling. Pooling reduces the number of parameters, reduces computational costs, and helps limit overfitting. Like what we saw with convolutional filters, pooling filters will have a size and a stride. Given values for these parameters, the following formula can be used to compute the output size.\n",
    "\n",
    "$\\displaystyle \\mbox{Output Size}=\\left\\lfloor \\frac{W−F}{S} + 1 \\right\\rfloor,$ where:\n",
    "\n",
    "$W$ = input size (width/height),</br>\n",
    "$F$ = filter (pooling) size,</br>\n",
    "$S$ = stride.</br>\n",
    "\n",
    "The following code block applies a ReLU activation to our Sobel filter output and then uses max pooling to reduce dimensionality further."
   ]
  },
  {
   "cell_type": "code",
   "execution_count": 6,
   "id": "3e809258-b67c-4c39-9a05-67f9d82acf15",
   "metadata": {},
   "outputs": [
    {
     "data": {
      "image/png": "[encoded data removed]",
      "text/plain": [
       "<Figure size 1000x1000 with 4 Axes>"
      ]
     },
     "metadata": {},
     "output_type": "display_data"
    }
   ],
   "source": [
    "sobel_filter = np.array([\n",
    "    [-1, 0, 1], \n",
    "    [-2, 0, 2],\n",
    "    [-1, 0, 1]\n",
    "])\n",
    "\n",
    "filter_size = len(sobel_filter)\n",
    "stride = 2\n",
    "padding = 0\n",
    "\n",
    "conv_output_height = np.floor((test_image.shape[0] - filter_size - 2*padding)/stride + 1).astype(np.int32)\n",
    "conv_output_width =  np.floor((test_image.shape[1] - filter_size - 2*padding)/stride + 1).astype(np.int32)\n",
    "\n",
    "# Initialize the output matrix\n",
    "conv_output = np.zeros((conv_output_height, conv_output_width))\n",
    "\n",
    "for i in range(0, conv_output_height):\n",
    "    for j in range(0, conv_output_width):\n",
    "        row_start = i * stride\n",
    "        col_start = j * stride\n",
    "        \n",
    "        window = test_image[row_start:row_start + filter_size, col_start:col_start + filter_size]\n",
    "        conv_output[i, j] = np.sum(window * sobel_filter)\n",
    "\n",
    "relu_output = np.maximum(0, conv_output)\n",
    "\n",
    "pool_size = 2\n",
    "stride_pool = 2\n",
    "\n",
    "# Calculate output dimensions for max pooling\n",
    "pool_output_height = np.floor((relu_output.shape[0] - pool_size) / stride_pool + 1).astype(np.int32)\n",
    "pool_output_width = np.floor((relu_output.shape[1] - pool_size) / stride_pool + 1).astype(np.int32)\n",
    "\n",
    "# Initialize the output matrix for max pooling\n",
    "pool_output = np.zeros((pool_output_height, pool_output_width))\n",
    "\n",
    "# Apply Max Pooling\n",
    "for i in range(0, pool_output_height):\n",
    "    for j in range(0, pool_output_width):\n",
    "        row_start = i * stride_pool\n",
    "        col_start = j * stride_pool\n",
    "        \n",
    "        window = relu_output[row_start:row_start + pool_size, col_start:col_start + pool_size]\n",
    "        pool_output[i, j] = np.max(window)\n",
    "\n",
    "mosaic = [\n",
    "    ['Original Image', 'Filter Output'],\n",
    "    ['ReLU Output', 'Max Pooling Output']\n",
    "]\n",
    "plot_mapper = {\n",
    "    'Original Image': test_image,\n",
    "    'Filter Output': conv_output,\n",
    "    'ReLU Output': relu_output,\n",
    "    'Max Pooling Output': pool_output,\n",
    "}\n",
    "\n",
    "\n",
    "fig, ax = plt.subplot_mosaic(mosaic, figsize=(10, 10))\n",
    "\n",
    "for subplot_title, subplot_array in plot_mapper.items(): \n",
    "\n",
    "    ax[subplot_title].imshow(\n",
    "        subplot_array,\n",
    "        cmap='gray', \n",
    "    )\n",
    "    ax[subplot_title].set_title(subplot_title)\n",
    "\n",
    "plt.show()"
   ]
  },
  {
   "cell_type": "markdown",
   "id": "28b462d9-8d19-4207-8091-84dcf73bd628",
   "metadata": {},
   "source": [
    "The following code block repeats the steps with a different filter that sharpens images."
   ]
  },
  {
   "cell_type": "code",
   "execution_count": 7,
   "id": "f58f959e-f3ca-4a4a-af93-08d011b71701",
   "metadata": {},
   "outputs": [
    {
     "data": {
      "image/png": "[encoded data removed]",
      "text/plain": [
       "<Figure size 1000x1000 with 4 Axes>"
      ]
     },
     "metadata": {},
     "output_type": "display_data"
    }
   ],
   "source": [
    "sharpening_filter = np.array([\n",
    "    [0, -1, 0], \n",
    "    [-1, 5, -1],\n",
    "    [0, -1, 0]\n",
    "])\n",
    "\n",
    "filter_size = len(sharpening_filter)\n",
    "stride = 2\n",
    "padding = 0\n",
    "\n",
    "conv_output_height = np.floor((test_image.shape[0] - filter_size - 2*padding)/stride + 1).astype(np.int32)\n",
    "conv_output_width =  np.floor((test_image.shape[1] - filter_size - 2*padding)/stride + 1).astype(np.int32)\n",
    "\n",
    "# Initialize the output matrix\n",
    "conv_output = np.zeros((conv_output_height, conv_output_width))\n",
    "\n",
    "for i in range(0, conv_output_height):\n",
    "    for j in range(0, conv_output_width):\n",
    "        row_start = i * stride\n",
    "        col_start = j * stride\n",
    "        \n",
    "        window = test_image[row_start:row_start + filter_size, col_start:col_start + filter_size]\n",
    "        conv_output[i, j] = np.sum(window * sharpening_filter)\n",
    "\n",
    "relu_output = np.maximum(0, conv_output)\n",
    "\n",
    "pool_size = 2\n",
    "stride_pool = 2\n",
    "\n",
    "# Calculate output dimensions for max pooling\n",
    "pool_output_height = np.floor((relu_output.shape[0] - pool_size) / stride_pool + 1).astype(np.int32)\n",
    "pool_output_width = np.floor((relu_output.shape[1] - pool_size) / stride_pool + 1).astype(np.int32)\n",
    "\n",
    "# Initialize the output matrix for max pooling\n",
    "pool_output = np.zeros((pool_output_height, pool_output_width))\n",
    "\n",
    "# Apply Max Pooling\n",
    "for i in range(0, pool_output_height):\n",
    "    for j in range(0, pool_output_width):\n",
    "        # Calculate the starting row and column indices\n",
    "        row_start = i * stride_pool\n",
    "        col_start = j * stride_pool\n",
    "        \n",
    "        # Extract the 2x2 region for max pooling\n",
    "        window = relu_output[row_start:row_start + pool_size, col_start:col_start + pool_size]\n",
    "        \n",
    "        # Apply max pooling (get the maximum value in the window)\n",
    "        pool_output[i, j] = np.max(window)\n",
    "\n",
    "mosaic = [\n",
    "    ['Original Image', 'Filter Output'],\n",
    "    ['ReLU Output', 'Max Pooling Output']\n",
    "]\n",
    "plot_mapper = {\n",
    "    'Original Image': test_image,\n",
    "    'Filter Output': conv_output,\n",
    "    'ReLU Output': relu_output,\n",
    "    'Max Pooling Output': pool_output,\n",
    "}\n",
    "\n",
    "\n",
    "fig, ax = plt.subplot_mosaic(mosaic, figsize=(10, 10))\n",
    "\n",
    "for subplot_title, subplot_array in plot_mapper.items(): \n",
    "\n",
    "    ax[subplot_title].imshow(\n",
    "        subplot_array,\n",
    "        cmap='gray', \n",
    "    )\n",
    "    ax[subplot_title].set_title(subplot_title)\n",
    "\n",
    "plt.show()"
   ]
  },
  {
   "cell_type": "markdown",
   "id": "52caff8f-7e08-4d80-add1-dd4359dbde13",
   "metadata": {},
   "source": [
    "# Creating a Simple CNN with PyTorch\n",
    "\n",
    "We will now look at how to construct a simple CNN using Pytorch. The structure of the CNN we will use is depicted in the following flowchart. We will use two convolutional layers, ReLU activation functions, and Max pooling.\n",
    "\n",
    "```mermaid\n",
    "flowchart LR\n",
    "\n",
    "A[Input Layer<br>28x28x1] --> B[Conv1 Layer<br>3x3<br>stride 1<br>32 filters<br>Output: 26x26x32]\n",
    "B --> BRelu[Relu<br>Output: 26x26x32]\n",
    "BRelu --> C[Max Pooling 1<br>2x2<br>stride 2<br>Output: 13x13x32]\n",
    "C --> D[Conv2 Layer<br>3x3<br>stride 1<br>64 filters<br>Output: 11x11x64]\n",
    "D --> END:::hidden\n",
    "\n",
    "\n",
    "START:::hidden --> DRelu[Relu<br>Output: 1x11x64]\n",
    "DRelu --> E[Max Pooling 2<br>2x2<br>stride 2<br>Output: 5x5x64]\n",
    "E --> F[Flatten Layer<br>5x5x64 = 1600]\n",
    "F --> G[FC1 Layer<br>128 units]\n",
    "G --> H[FC2 Layer<br>10 units]\n",
    "\n",
    "classDef hidden display: none;\n",
    "```\n",
    "\n",
    "We will send the data to our PyTorch model in batches. Thus, we will define a Dataset class and use a Dataloader to handle this batching. The following code block defines the Dataset class: `MNISTDataset`."
   ]
  },
  {
   "cell_type": "code",
   "execution_count": 8,
   "id": "09720d57-a1b7-4ad9-b643-cbf1197f73e2",
   "metadata": {
    "editable": true,
    "slideshow": {
     "slide_type": ""
    },
    "tags": []
   },
   "outputs": [],
   "source": [
    "# Custom Dataset class\n",
    "class MNISTDataset(Dataset):\n",
    "    def __init__(self, features, targets):\n",
    "        self.features = features\n",
    "        self.targets = targets\n",
    "\n",
    "    def __len__(self):\n",
    "        return len(self.features)\n",
    "\n",
    "    def __getitem__(self, idx):\n",
    "        image = self.features[idx].reshape(28, 28).astype('float32')\n",
    "        label = self.targets[idx].astype('float32')\n",
    "        return torch.tensor(image), torch.tensor(label)"
   ]
  },
  {
   "cell_type": "markdown",
   "id": "a611fa19-d340-4855-96a8-4cc52806ea52",
   "metadata": {},
   "source": [
    "The following code block:\n",
    "- reloads the data,\n",
    "- divides the feature data by 255 to convert all values to be in [0, 1],\n",
    "- applies one-hot-encoding to the target data,\n",
    "- splits the data into train, validation, and test datasets,\n",
    "- and uses the custom `MNISTDataset` class to create PyTorch Dataset objects for each set. "
   ]
  },
  {
   "cell_type": "code",
   "execution_count": 9,
   "id": "f7a80123-2c2e-4731-bd1f-efd4245ac5e1",
   "metadata": {},
   "outputs": [],
   "source": [
    "# Load data from parquet files\n",
    "feature_data_filepath = pathlib.Path('data/mnist_features.parquet')\n",
    "target_data_filepath = pathlib.Path('data/mnist_target.parquet')\n",
    "\n",
    "feature_data = pl.read_parquet(\n",
    "    feature_data_filepath\n",
    ").with_columns(\n",
    "    pl.all()/255.0\n",
    ")\n",
    "\n",
    "target_data = pl.read_parquet(\n",
    "    target_data_filepath\n",
    ").cast(\n",
    "    pl.Int32\n",
    ").to_dummies()\n",
    "\n",
    "# Convert to numpy arrays\n",
    "X = feature_data.to_numpy()\n",
    "y = target_data = target_data.to_numpy()\n",
    "\n",
    "# Split the data into training (70%), validation (10%), and test (20%) sets\n",
    "X_train_val, X_test, y_train_val, y_test = train_test_split(\n",
    "    X, \n",
    "    y, \n",
    "    test_size=0.20, \n",
    "    random_state=42,\n",
    ")\n",
    "X_train, X_val, y_train, y_val = train_test_split(\n",
    "    X_train_val, \n",
    "    y_train_val, \n",
    "    test_size=1/8, \n",
    "    random_state=42,\n",
    ")\n",
    "\n",
    "# Create Dataset objects\n",
    "train_dataset = MNISTDataset(X_train, y_train)\n",
    "val_dataset = MNISTDataset(X_val, y_val)\n",
    "test_dataset = MNISTDataset(X_test, y_test)"
   ]
  },
  {
   "cell_type": "markdown",
   "id": "227a671f-fe5e-4b4d-be8e-5ca650aacfbf",
   "metadata": {},
   "source": [
    "The following code block defines the class for the PyTorch model."
   ]
  },
  {
   "cell_type": "code",
   "execution_count": 10,
   "id": "68bb1513-696f-476a-b443-5079f733ee12",
   "metadata": {},
   "outputs": [],
   "source": [
    "# Define the CNN model\n",
    "class SimpleCNN(nn.Module):\n",
    "    def __init__(self):\n",
    "        super(SimpleCNN, self).__init__()\n",
    "        self.conv1 = nn.Conv2d(in_channels=1, out_channels=32, kernel_size=3)\n",
    "        self.conv2 = nn.Conv2d(in_channels=32, out_channels=64, kernel_size=3)\n",
    "        self.fc1 = nn.Linear(64 * 5 * 5, 128)\n",
    "        self.fc2 = nn.Linear(128, 10)\n",
    "        self.pool = nn.MaxPool2d(2, 2)\n",
    "        self.relu = nn.ReLU()\n",
    "\n",
    "    def forward(self, x):\n",
    "        x = self.relu(self.conv1(x))\n",
    "        x = self.pool(x)\n",
    "        x = self.relu(self.conv2(x))\n",
    "        x = self.pool(x)\n",
    "        x = x.view(-1, 64 * 5 * 5)\n",
    "        x = self.relu(self.fc1(x))\n",
    "        x = self.fc2(x)\n",
    "        return x"
   ]
  },
  {
   "cell_type": "markdown",
   "id": "df767d1c-c7c2-4ca9-afea-d040a30f6a69",
   "metadata": {},
   "source": [
    "The following code block defines training parameters for our CNN implementation."
   ]
  },
  {
   "cell_type": "code",
   "execution_count": 11,
   "id": "5f3c96c1-391a-4d54-a0fd-cf4fa595e856",
   "metadata": {},
   "outputs": [],
   "source": [
    "num_epochs = 10\n",
    "batch_size = 64\n",
    "learning_rate = 0.001"
   ]
  },
  {
   "cell_type": "markdown",
   "id": "5c7a1e9a-38cf-400c-a405-6ab2eefe146c",
   "metadata": {},
   "source": [
    "The following code block creates the Dataloader objects we use to iterate through batches of the data."
   ]
  },
  {
   "cell_type": "code",
   "execution_count": 12,
   "id": "555af970-19c6-486f-becc-363085adf492",
   "metadata": {},
   "outputs": [],
   "source": [
    "train_loader = DataLoader(\n",
    "    dataset=train_dataset, \n",
    "    batch_size=batch_size, \n",
    "    shuffle=True,\n",
    ")\n",
    "val_loader = DataLoader(\n",
    "    dataset=val_dataset, \n",
    "    batch_size=batch_size, \n",
    "    shuffle=False,\n",
    ")\n",
    "test_loader = DataLoader(\n",
    "    dataset=test_dataset, \n",
    "    batch_size=batch_size, \n",
    "    shuffle=False,\n",
    ")"
   ]
  },
  {
   "cell_type": "markdown",
   "id": "c0744e76-0ecb-4575-9af1-e569cecd0629",
   "metadata": {},
   "source": [
    "The following code block trains the model."
   ]
  },
  {
   "cell_type": "code",
   "execution_count": 13,
   "id": "93002d93-46cc-4ed9-88c0-699b58f03e37",
   "metadata": {},
   "outputs": [
    {
     "name": "stdout",
     "output_type": "stream",
     "text": [
      "Epoch [1/10], Training Loss: 0.2014, Validation Loss: 0.0788\n",
      "Epoch [2/10], Training Loss: 0.0557, Validation Loss: 0.0481\n",
      "Epoch [3/10], Training Loss: 0.0396, Validation Loss: 0.0448\n",
      "Epoch [4/10], Training Loss: 0.0286, Validation Loss: 0.0407\n",
      "Epoch [5/10], Training Loss: 0.0228, Validation Loss: 0.0500\n",
      "Epoch [6/10], Training Loss: 0.0185, Validation Loss: 0.0404\n",
      "Epoch [7/10], Training Loss: 0.0140, Validation Loss: 0.0591\n",
      "Epoch [8/10], Training Loss: 0.0131, Validation Loss: 0.0335\n",
      "Epoch [9/10], Training Loss: 0.0093, Validation Loss: 0.0335\n",
      "Epoch [10/10], Training Loss: 0.0073, Validation Loss: 0.0461\n",
      " - Training for 10 epochs took 68.23 seconds.\n"
     ]
    }
   ],
   "source": [
    "model = SimpleCNN()\n",
    "criterion = nn.CrossEntropyLoss()\n",
    "optimizer = optim.Adam(model.parameters(), lr=learning_rate)\n",
    "\n",
    "start_time = time.time()\n",
    "\n",
    "training_history = []\n",
    "for epoch in range(num_epochs):\n",
    "    model.train()\n",
    "    running_training_loss = 0.0\n",
    "    for images, labels in train_loader:\n",
    "        images = images.unsqueeze(1)  # Add channel dimension\n",
    "        optimizer.zero_grad()\n",
    "        outputs = model(images)\n",
    "        loss = criterion(outputs, labels)\n",
    "        loss.backward()\n",
    "        optimizer.step()\n",
    "        running_training_loss += loss.item()\n",
    "\n",
    "    training_loss = running_training_loss / len(train_loader)\n",
    "    training_history.append({\n",
    "        'epoch': epoch+1,\n",
    "        'phase': 'Training',\n",
    "        'loss': training_loss\n",
    "    })\n",
    "    \n",
    "    # Validation step\n",
    "    model.eval()\n",
    "    running_val_loss = 0.0\n",
    "    with torch.no_grad():\n",
    "        for images, labels in val_loader:\n",
    "            images = images.unsqueeze(1)  # Add channel dimension\n",
    "            outputs = model(images)\n",
    "            loss = criterion(outputs, labels)\n",
    "            running_val_loss += loss.item()\n",
    "            \n",
    "    validation_loss = running_val_loss / len(val_loader)\n",
    "    training_history.append({\n",
    "        'epoch': epoch+1,\n",
    "        'phase': 'Validation',\n",
    "        'loss': validation_loss\n",
    "    })\n",
    "\n",
    "    print(f\"Epoch [{epoch+1}/{num_epochs}], Training Loss: {training_loss:.4f}, Validation Loss: {validation_loss:.4f}\")\n",
    "\n",
    "end_time = time.time()\n",
    "elapsed_time = end_time - start_time\n",
    "print(f' - Training for {num_epochs} epochs took {elapsed_time:.2f} seconds.')"
   ]
  },
  {
   "cell_type": "markdown",
   "id": "ae076786-dbc1-468a-8bc8-9631d32bcd3b",
   "metadata": {},
   "source": [
    "The following code block plots the training and validation losses over the epochs."
   ]
  },
  {
   "cell_type": "code",
   "execution_count": 14,
   "id": "42b4bf34-cfe5-47fd-a961-caaab76254e2",
   "metadata": {},
   "outputs": [
    {
     "data": {
      "image/png": "[encoded data removed]",
      "text/plain": [
       "<Figure size 600x400 with 1 Axes>"
      ]
     },
     "metadata": {},
     "output_type": "display_data"
    }
   ],
   "source": [
    "training_history_df = pl.DataFrame(training_history)\n",
    "\n",
    "fig, ax = plt.subplots(1, 1, figsize=(6, 4))\n",
    "\n",
    "sns.lineplot(\n",
    "    training_history_df,\n",
    "    x='epoch',\n",
    "    y='loss',\n",
    "    hue='phase',\n",
    ")\n",
    "ax.set_xlabel('Epoch')\n",
    "ax.set_ylabel('Loss')\n",
    "ax.legend(title='Phase')\n",
    "ax.spines[['right', 'top']].set_visible(False)"
   ]
  },
  {
   "cell_type": "markdown",
   "id": "6170c4f5-d77b-4d5d-8bc1-b0141d00ee31",
   "metadata": {},
   "source": [
    "The following code block computes the accuracy of the trained model on the test set."
   ]
  },
  {
   "cell_type": "code",
   "execution_count": 15,
   "id": "3c4b689b-2dd7-4053-b938-69532a147b84",
   "metadata": {},
   "outputs": [
    {
     "name": "stdout",
     "output_type": "stream",
     "text": [
      "Accuracy of the model on the test images: 99.04%\n"
     ]
    }
   ],
   "source": [
    "model.eval()\n",
    "correct = 0\n",
    "total = 0\n",
    "with torch.no_grad():\n",
    "    for images, labels in test_loader:\n",
    "        images = images.unsqueeze(1)  # Add channel dimension\n",
    "        outputs = model(images)\n",
    "        _, predicted = torch.max(outputs.data, 1)\n",
    "        total += labels.size(0)\n",
    "        correct += (predicted == labels.argmax(axis=1)).sum().item()\n",
    "print(f\"Accuracy of the model on the test images: {100 * correct / total:.2f}%\")"
   ]
  },
  {
   "cell_type": "markdown",
   "id": "070816b1-fbdd-4d8d-9058-c0d99a483dbf",
   "metadata": {},
   "source": [
    "The following code block defines a function that allows us to visualize specific filters in the first convolutional layer and the resulting ReLU activation function outputs."
   ]
  },
  {
   "cell_type": "code",
   "execution_count": 16,
   "id": "d90913ca-e709-44a2-9f96-4dc9ddca4180",
   "metadata": {},
   "outputs": [],
   "source": [
    "def plot_conv1_filter_and_relu_activation(filter_index):\n",
    "\n",
    "    conv1_filter_arrays = model.conv1.weight.data.numpy()\n",
    "    \n",
    "    conv1_filter_array = conv1_filter_arrays[filter_index]\n",
    "    current_filter = conv1_filter_array[0]\n",
    "    \n",
    "    filter_size = len(current_filter)\n",
    "    stride = 2\n",
    "    padding = 0\n",
    "    \n",
    "    conv_output_height = np.floor((test_image.shape[0] - filter_size - 2*padding)/stride + 1).astype(np.int32)\n",
    "    conv_output_width =  np.floor((test_image.shape[1] - filter_size - 2*padding)/stride + 1).astype(np.int32)\n",
    "    \n",
    "    # Initialize the output matrix\n",
    "    conv_output = np.zeros((conv_output_height, conv_output_width))\n",
    "    \n",
    "    # Apply the 3x3 max pooling operation with stride 2 and valid padding\n",
    "    for i in range(0, conv_output_height):\n",
    "        for j in range(0, conv_output_width):\n",
    "            # Calculate the starting row and column indices\n",
    "            row_start = i * stride\n",
    "            col_start = j * stride\n",
    "            \n",
    "            # Extract the 3x3 window\n",
    "            window = test_image[row_start:row_start + filter_size, col_start:col_start + filter_size]\n",
    "            \n",
    "            # Apply max pooling (get the maximum value in the window)\n",
    "            conv_output[i, j] = np.sum(window * current_filter)\n",
    "    \n",
    "    relu_output = np.maximum(conv_output, 0)\n",
    "    \n",
    "    mosaic = [\n",
    "        ['Original Image', 'Filter Output', 'ReLU Output'],\n",
    "    ]\n",
    "    plot_mapper = {\n",
    "        'Original Image': test_image,\n",
    "        'Filter Output': conv_output,\n",
    "        'ReLU Output': relu_output,\n",
    "    }\n",
    "    \n",
    "    \n",
    "    fig, ax = plt.subplot_mosaic(mosaic, figsize=(12, 5))\n",
    "    \n",
    "    for subplot_title, subplot_array in plot_mapper.items(): \n",
    "    \n",
    "        ax[subplot_title].imshow(\n",
    "            subplot_array,\n",
    "            cmap='gray', \n",
    "        )\n",
    "        ax[subplot_title].set_title(subplot_title)\n",
    "    \n",
    "    plt.show()"
   ]
  },
  {
   "cell_type": "markdown",
   "id": "940166ff-2252-40b2-b408-74454a8f2ac2",
   "metadata": {},
   "source": [
    "The following code block runs the previous function interactively for different filters."
   ]
  },
  {
   "cell_type": "code",
   "execution_count": 17,
   "id": "94d00da3-b28c-4a47-b8ab-369796126e18",
   "metadata": {
    "editable": true,
    "slideshow": {
     "slide_type": ""
    },
    "tags": []
   },
   "outputs": [
    {
     "data": {
      "application/vnd.jupyter.widget-view+json": {
       "model_id": "2d12ea20cbc746ecb181bbb04e3f4a2e",
       "version_major": 2,
       "version_minor": 0
      },
      "text/plain": [
       "interactive(children=(IntSlider(value=0, description='filter_index', max=31), Output()), _dom_classes=('widget…"
      ]
     },
     "metadata": {},
     "output_type": "display_data"
    }
   ],
   "source": [
    "ipywidgets.interact(\n",
    "    plot_conv1_filter_and_relu_activation, \n",
    "    filter_index=ipywidgets.IntSlider(min=0, max=31)\n",
    ");"
   ]
  },
  {
   "cell_type": "markdown",
   "id": "6b3f3072-7d14-4d92-9b8d-8aba25a4d618",
   "metadata": {},
   "source": [
    "# Running the Model on a GPU\n",
    "\n",
    "If you have a compatible GPU, PyTorch can run the CNN on the device. We must send the model and data to the device when training or using the model for inference. The following code block shows how to create a variable that can be used to send the model and data to the appropriate device."
   ]
  },
  {
   "cell_type": "code",
   "execution_count": 18,
   "id": "399c7dec-ab88-4457-9c12-c52b97865a6d",
   "metadata": {},
   "outputs": [
    {
     "name": "stdout",
     "output_type": "stream",
     "text": [
      "Using device: cuda\n"
     ]
    }
   ],
   "source": [
    "device = torch.device('cuda' if torch.cuda.is_available() else 'cpu')\n",
    "print(f\"Using device: {device}\")"
   ]
  },
  {
   "cell_type": "markdown",
   "id": "a743f8d1-242f-4d3a-aad9-7b4a12078ac5",
   "metadata": {},
   "source": [
    "The following code block updates the training loop to use the GPU."
   ]
  },
  {
   "cell_type": "code",
   "execution_count": 19,
   "id": "4ea84dee-4be7-4b80-b0f3-ccd899ec7fdd",
   "metadata": {},
   "outputs": [
    {
     "name": "stdout",
     "output_type": "stream",
     "text": [
      "Epoch [1/10], Training Loss: 0.1928, Validation Loss: 0.0742\n",
      "Epoch [2/10], Training Loss: 0.0545, Validation Loss: 0.0525\n",
      "Epoch [3/10], Training Loss: 0.0375, Validation Loss: 0.0418\n",
      "Epoch [4/10], Training Loss: 0.0290, Validation Loss: 0.0383\n",
      "Epoch [5/10], Training Loss: 0.0207, Validation Loss: 0.0441\n",
      "Epoch [6/10], Training Loss: 0.0169, Validation Loss: 0.0359\n",
      "Epoch [7/10], Training Loss: 0.0128, Validation Loss: 0.0358\n",
      "Epoch [8/10], Training Loss: 0.0111, Validation Loss: 0.0358\n",
      "Epoch [9/10], Training Loss: 0.0088, Validation Loss: 0.0413\n",
      "Epoch [10/10], Training Loss: 0.0076, Validation Loss: 0.0384\n",
      " - Training for 10 took 15.82 seconds.\n",
      "Accuracy of the model on the test images: 98.76%\n"
     ]
    }
   ],
   "source": [
    "model = SimpleCNN().to(device)\n",
    "criterion = nn.CrossEntropyLoss()\n",
    "optimizer = optim.Adam(model.parameters(), lr=learning_rate)\n",
    "\n",
    "start_time = time.time()\n",
    "\n",
    "training_history = []\n",
    "for epoch in range(num_epochs):\n",
    "    model.train()\n",
    "    running_training_loss = 0.0\n",
    "    for images, labels in train_loader:\n",
    "        images = images.unsqueeze(1).to(device)  # Add channel dimension\n",
    "        labels = labels.to(device)\n",
    "        optimizer.zero_grad()\n",
    "        outputs = model(images)\n",
    "        loss = criterion(outputs, labels)\n",
    "        loss.backward()\n",
    "        optimizer.step()\n",
    "        running_training_loss += loss.item()\n",
    "\n",
    "    training_loss = running_training_loss / len(train_loader)\n",
    "    training_history.append({\n",
    "        'epoch': epoch+1,\n",
    "        'phase': 'Training',\n",
    "        'loss': training_loss\n",
    "    })\n",
    "    \n",
    "    # Validation step\n",
    "    model.eval()\n",
    "    running_val_loss = 0.0\n",
    "    with torch.no_grad():\n",
    "        for images, labels in val_loader:\n",
    "            images = images.unsqueeze(1).to(device)  # Add channel dimension\n",
    "            labels = labels.to(device)\n",
    "            outputs = model(images)\n",
    "            loss = criterion(outputs, labels)\n",
    "            running_val_loss += loss.item()\n",
    "            \n",
    "    validation_loss = running_val_loss / len(val_loader)\n",
    "    training_history.append({\n",
    "        'epoch': epoch+1,\n",
    "        'phase': 'Validation',\n",
    "        'loss': validation_loss\n",
    "    })\n",
    "\n",
    "    print(f\"Epoch [{epoch+1}/{num_epochs}], Training Loss: {training_loss:.4f}, Validation Loss: {validation_loss:.4f}\")\n",
    "\n",
    "end_time = time.time()\n",
    "elapsed_time = end_time - start_time\n",
    "print(f' - Training for {num_epochs} took {elapsed_time:.2f} seconds.')\n",
    "\n",
    "model.eval()\n",
    "correct = 0\n",
    "total = 0\n",
    "with torch.no_grad():\n",
    "    for images, labels in test_loader:\n",
    "        images = images.unsqueeze(1).to(device)  # Add channel dimension\n",
    "        labels = labels.to(device)\n",
    "        outputs = model(images)\n",
    "        _, predicted = torch.max(outputs.data, 1)\n",
    "        total += labels.size(0)\n",
    "        correct += (predicted == labels.argmax(axis=1)).sum().item()\n",
    "print(f\"Accuracy of the model on the test images: {100 * correct / total:.2f}%\")"
   ]
  },
  {
   "cell_type": "markdown",
   "id": "eb376863-3b97-4cd7-b428-cb59e398345e",
   "metadata": {},
   "source": [
    "# Working with Model Embeddings\n",
    "Embeddings in neural networks refer to dense, low-dimensional vector representations of data that capture the semantic meaning or characteristics of high-dimensional input data. The main use case for embeddings is transforming complex, high-dimensional data, such as documents or images, into a form that is easier for the model to process and associate.\n",
    "\n",
    "## Cosine Similarity\n",
    "Cosine similarity is a metric used to measure the similarity between two vectors in a multi-dimensional space by calculating the cosine of the angle between them. Cosine similarity is often used in text analysis, where documents are represented as vectors of word frequencies or TF-IDF scores. By comparing the cosine similarity between document vectors, you can measure the similarity in the content of documents without being influenced by the absolute lengths of the vectors (i.e., document size or word count). It is defined as:\n",
    "\n",
    "Cosine Similarity = $\\displaystyle \\frac{\\mathbf{A} \\cdot \\mathbf{B}}{\\|\\mathbf{A}\\| \\|\\mathbf{B}\\|}$\n",
    "\n",
    "Where:\n",
    "- $\\displaystyle \\mathbf{A} \\cdot \\mathbf{B}$ is the **dot product** of vectors $\\mathbf{A}$ and $\\mathbf{B}$.\n",
    "- $\\|\\mathbf{A}\\|$ is the **magnitude** (or length) of vector $\\mathbf{A}$, calculated as $\\displaystyle \\|\\mathbf{A}\\| = \\sqrt{A_1^2 + A_2^2 + \\dots + A_n^2}$ for an $n$-dimensional vector $\\mathbf{A} = [A_1, A_2, \\dots, A_n]$.\n",
    "- $\\displaystyle \\|\\mathbf{B}\\|$ is the magnitude of vector $\\mathbf{B}$, calculated similarly.\n",
    "\n",
    "### Interpreting Cosine Similarity:\n",
    "- The cosine similarity ranges from $-1$ to $1$:\n",
    "  - Cosine Similarity = 1 when the vectors are **identical** (i.e., point in the same direction).\n",
    "  - Cosine Similarity = 0 when the vectors are **orthogonal** (i.e., there is no correlation).\n",
    "  - Cosine Similarity = -1 when the vectors are **opposite** (i.e., point in opposite directions).\n",
    "\n",
    "## Extracting Embeddings from the Trained Model\n",
    "\n",
    "The following code block shows how we can use the trained model to extract the output of the `fc1` layer, a 128-dimensional vector, for all of the instances in the test dataset. The vector returned by `fc1` is a dense representation of the original input image that captures high-level features learned by the convolutional layers and pooling operations. Thus, it satisfies our definition of an embedding."
   ]
  },
  {
   "cell_type": "code",
   "execution_count": 20,
   "id": "71ec8d4f-e610-4d1c-9708-9399d8be6aa3",
   "metadata": {},
   "outputs": [
    {
     "data": {
      "application/vnd.jupyter.widget-view+json": {
       "model_id": "8c19b6f8c4da4da69563b71d2d4058d0",
       "version_major": 2,
       "version_minor": 0
      },
      "text/plain": [
       "Extracting embeddings:   0%|          | 0/219 [00:00<?, ?it/s]"
      ]
     },
     "metadata": {},
     "output_type": "display_data"
    }
   ],
   "source": [
    "embeddings = pl.DataFrame()\n",
    "image_arrays = []\n",
    "\n",
    "model.eval()\n",
    "with torch.no_grad():\n",
    "    for images, labels in tqdm(test_loader, 'Extracting embeddings'):\n",
    "        images = images.unsqueeze(1).to(device)  # Add channel dimension\n",
    "        labels = labels.to(device)\n",
    "        outputs = model(images)\n",
    "\n",
    "        x = images\n",
    "        x = model.relu(model.conv1(x))\n",
    "        x = model.pool(x)\n",
    "        x = model.relu(model.conv2(x))\n",
    "        x = model.pool(x)\n",
    "        x = x.view(-1, 64 * 5 * 5)\n",
    "        embedding = model.fc1(x)\n",
    "        embedding_relu = model.relu(embedding)\n",
    "        output = model.fc2(embedding_relu)\n",
    "\n",
    "        batch_embeddings = pl.DataFrame(\n",
    "            embedding.detach().cpu().numpy(),\n",
    "            schema=[f'd{idx}' for idx in range(1, 129)],\n",
    "        ).with_columns(\n",
    "            pl.Series(name='actual', values=labels.detach().cpu().numpy().argmax(axis=1).flatten()),\n",
    "            pl.Series(name='predicted', values=output.detach().cpu().numpy().argmax(axis=1).flatten())\n",
    "        )\n",
    "        embeddings = pl.concat([embeddings, batch_embeddings])\n",
    "        for image in images:\n",
    "            image_arrays.append(image.detach().cpu().numpy().flatten())\n",
    "\n",
    "embeddings = embeddings.with_columns(\n",
    "    correct = pl.when(pl.col('actual') == pl.col('predicted')).then(1).otherwise(0)\n",
    ")\n",
    "length = len(embeddings)\n",
    "embeddings = embeddings.with_columns(\n",
    "    instance = pl.Series(name='instance', values=range(length))\n",
    ").select(\n",
    "    pl.col('instance'), \n",
    "    pl.col('actual'), \n",
    "    pl.col('predicted'),\n",
    "    pl.col('correct'),\n",
    "    pl.all().exclude(['instance', 'actual', 'predicted', 'correct'])\n",
    ")"
   ]
  },
  {
   "cell_type": "markdown",
   "id": "31ff3f40-9f78-4bb7-8137-6a701b370a84",
   "metadata": {},
   "source": [
    "The following code block defines a function that plots a 2 x 2 subplot with a missclassified digit in the upper left and the closest 3 digits based on cosine similarity. "
   ]
  },
  {
   "cell_type": "code",
   "execution_count": 21,
   "id": "91112512-270d-40c9-a8cb-2a499c1f152a",
   "metadata": {},
   "outputs": [],
   "source": [
    "def generate_incorrect_prediction_plot(selected_instance):\n",
    "\n",
    "    selected_instance_data = embeddings.filter(\n",
    "        pl.col('instance') == selected_instance\n",
    "    )\n",
    "    \n",
    "    selected_instance_embedding = selected_instance_data.select(\n",
    "        pl.all().exclude(['instance', 'actual', 'predicted', 'correct'])\n",
    "    ).to_numpy()\n",
    "    \n",
    "    selected_instance_label = selected_instance_data.get_column('actual').to_numpy().flatten()[0]\n",
    "    selected_instance_prediction = selected_instance_data.get_column('predicted').to_numpy().flatten()[0]\n",
    "    \n",
    "    cosine_similarities = cosine_similarity(\n",
    "        selected_instance_embedding,\n",
    "        all_embeddings_array,\n",
    "    ).flatten()\n",
    "    \n",
    "    most_similar = cosine_similarities.argsort()[-4:-1][::-1]\n",
    "    \n",
    "    fig, ax = plt.subplots(2, 2, figsize=(10, 10))\n",
    "    \n",
    "    ax[0][0].imshow(\n",
    "        image_arrays[selected_instance].reshape(28, 28),\n",
    "        cmap='gray',\n",
    "    )\n",
    "    ax[0][0].set_title(f'Actual: {selected_instance_label}\\nPredicted: {selected_instance_prediction}')\n",
    "    \n",
    "    ax[0][1].imshow(\n",
    "        image_arrays[most_similar[0]].reshape(28, 28),\n",
    "        cmap='gray',\n",
    "    )\n",
    "    label = selected_instance_data = embeddings.filter(\n",
    "        pl.col('instance') == most_similar[0]\n",
    "    ).get_column('actual').to_numpy().flatten()[0]\n",
    "    ax[0][1].set_title(f'Actual: {label}')\n",
    "    \n",
    "    ax[1][0].imshow(\n",
    "        image_arrays[most_similar[1]].reshape(28, 28),\n",
    "        cmap='gray',\n",
    "    )\n",
    "    label = selected_instance_data = embeddings.filter(\n",
    "        pl.col('instance') == most_similar[1]\n",
    "    ).get_column('actual').to_numpy().flatten()[0]\n",
    "    ax[1][0].set_title(f'Actual: {label}')\n",
    "    \n",
    "    ax[1][1].imshow(\n",
    "        image_arrays[most_similar[2]].reshape(28, 28),\n",
    "        cmap='gray',\n",
    "    )\n",
    "    label = selected_instance_data = embeddings.filter(\n",
    "        pl.col('instance') == most_similar[2]\n",
    "    ).get_column('actual').to_numpy().flatten()[0]\n",
    "    ax[1][1].set_title(f'Actual: {label}')\n",
    "    \n",
    "    plt.show()"
   ]
  },
  {
   "cell_type": "markdown",
   "id": "89983bdc-9753-4648-9782-bc32def30828",
   "metadata": {},
   "source": [
    "The following code block runs the previously defined function for a subset of misclassified digits."
   ]
  },
  {
   "cell_type": "code",
   "execution_count": 22,
   "id": "df5aa673-9c0d-4de7-9986-d52b813dd624",
   "metadata": {},
   "outputs": [
    {
     "data": {
      "application/vnd.jupyter.widget-view+json": {
       "model_id": "4f553bec44e2499f844b3b5458b19dc5",
       "version_major": 2,
       "version_minor": 0
      },
      "text/plain": [
       "interactive(children=(Dropdown(description='selected_instance', options=(47, 240, 241, 256, 293, 385, 472, 488…"
      ]
     },
     "metadata": {},
     "output_type": "display_data"
    },
    {
     "data": {
      "text/plain": [
       "<function __main__.generate_incorrect_prediction_plot(selected_instance)>"
      ]
     },
     "execution_count": 22,
     "metadata": {},
     "output_type": "execute_result"
    }
   ],
   "source": [
    "incorrect_instances = embeddings.filter(\n",
    "    pl.col('correct') == 0\n",
    ").get_column(\n",
    "    'instance'\n",
    ").to_list()\n",
    "\n",
    "all_embeddings_array = embeddings.select(\n",
    "    pl.all().exclude(['instance', 'actual', 'predicted', 'correct'])\n",
    ").to_numpy()\n",
    "\n",
    "ipywidgets.interact(generate_incorrect_prediction_plot, selected_instance=incorrect_instances[:10])"
   ]
  },
  {
   "cell_type": "markdown",
   "id": "a74304de-e5fd-457d-8cef-97f157b96955",
   "metadata": {},
   "source": [
    "# Transfer Learning (ResNet18)\n",
    "\n",
    "Transfer learning is a machine learning technique where a model developed for a specific task is reused or adapted for another related task. Instead of training a model from scratch, transfer learning leverages knowledge gained from pre-trained models (typically trained on large datasets). It fine-tunes them for a new, often smaller dataset or different task. This approach reduces the time and computational resources required to train a model and often results in better performance, especially when the target dataset is small.\n",
    "\n",
    "We will demonstrate transfer learning using a ResNet18 model pretrained on ImageNet. We can access these pretrained models from the `torchvision.models` module, which is imported in the following code block."
   ]
  },
  {
   "cell_type": "code",
   "execution_count": 23,
   "id": "c42d9e28-c482-4a22-9389-c6f45da15a81",
   "metadata": {},
   "outputs": [],
   "source": [
    "import torchvision.models"
   ]
  },
  {
   "cell_type": "markdown",
   "id": "2eb39b0a-bfe4-45bf-b2a3-6c9eaea4a11a",
   "metadata": {},
   "source": [
    "The following code block loads the ResNet18 model with the pretrained weights."
   ]
  },
  {
   "cell_type": "code",
   "execution_count": 24,
   "id": "afe1d7c1-76a0-4770-83f7-aaedb0c4cce4",
   "metadata": {},
   "outputs": [
    {
     "data": {
      "text/plain": [
       "ResNet(\n",
       "  (conv1): Conv2d(3, 64, kernel_size=(7, 7), stride=(2, 2), padding=(3, 3), bias=False)\n",
       "  (bn1): BatchNorm2d(64, eps=1e-05, momentum=0.1, affine=True, track_running_stats=True)\n",
       "  (relu): ReLU(inplace=True)\n",
       "  (maxpool): MaxPool2d(kernel_size=3, stride=2, padding=1, dilation=1, ceil_mode=False)\n",
       "  (layer1): Sequential(\n",
       "    (0): BasicBlock(\n",
       "      (conv1): Conv2d(64, 64, kernel_size=(3, 3), stride=(1, 1), padding=(1, 1), bias=False)\n",
       "      (bn1): BatchNorm2d(64, eps=1e-05, momentum=0.1, affine=True, track_running_stats=True)\n",
       "      (relu): ReLU(inplace=True)\n",
       "      (conv2): Conv2d(64, 64, kernel_size=(3, 3), stride=(1, 1), padding=(1, 1), bias=False)\n",
       "      (bn2): BatchNorm2d(64, eps=1e-05, momentum=0.1, affine=True, track_running_stats=True)\n",
       "    )\n",
       "    (1): BasicBlock(\n",
       "      (conv1): Conv2d(64, 64, kernel_size=(3, 3), stride=(1, 1), padding=(1, 1), bias=False)\n",
       "      (bn1): BatchNorm2d(64, eps=1e-05, momentum=0.1, affine=True, track_running_stats=True)\n",
       "      (relu): ReLU(inplace=True)\n",
       "      (conv2): Conv2d(64, 64, kernel_size=(3, 3), stride=(1, 1), padding=(1, 1), bias=False)\n",
       "      (bn2): BatchNorm2d(64, eps=1e-05, momentum=0.1, affine=True, track_running_stats=True)\n",
       "    )\n",
       "  )\n",
       "  (layer2): Sequential(\n",
       "    (0): BasicBlock(\n",
       "      (conv1): Conv2d(64, 128, kernel_size=(3, 3), stride=(2, 2), padding=(1, 1), bias=False)\n",
       "      (bn1): BatchNorm2d(128, eps=1e-05, momentum=0.1, affine=True, track_running_stats=True)\n",
       "      (relu): ReLU(inplace=True)\n",
       "      (conv2): Conv2d(128, 128, kernel_size=(3, 3), stride=(1, 1), padding=(1, 1), bias=False)\n",
       "      (bn2): BatchNorm2d(128, eps=1e-05, momentum=0.1, affine=True, track_running_stats=True)\n",
       "      (downsample): Sequential(\n",
       "        (0): Conv2d(64, 128, kernel_size=(1, 1), stride=(2, 2), bias=False)\n",
       "        (1): BatchNorm2d(128, eps=1e-05, momentum=0.1, affine=True, track_running_stats=True)\n",
       "      )\n",
       "    )\n",
       "    (1): BasicBlock(\n",
       "      (conv1): Conv2d(128, 128, kernel_size=(3, 3), stride=(1, 1), padding=(1, 1), bias=False)\n",
       "      (bn1): BatchNorm2d(128, eps=1e-05, momentum=0.1, affine=True, track_running_stats=True)\n",
       "      (relu): ReLU(inplace=True)\n",
       "      (conv2): Conv2d(128, 128, kernel_size=(3, 3), stride=(1, 1), padding=(1, 1), bias=False)\n",
       "      (bn2): BatchNorm2d(128, eps=1e-05, momentum=0.1, affine=True, track_running_stats=True)\n",
       "    )\n",
       "  )\n",
       "  (layer3): Sequential(\n",
       "    (0): BasicBlock(\n",
       "      (conv1): Conv2d(128, 256, kernel_size=(3, 3), stride=(2, 2), padding=(1, 1), bias=False)\n",
       "      (bn1): BatchNorm2d(256, eps=1e-05, momentum=0.1, affine=True, track_running_stats=True)\n",
       "      (relu): ReLU(inplace=True)\n",
       "      (conv2): Conv2d(256, 256, kernel_size=(3, 3), stride=(1, 1), padding=(1, 1), bias=False)\n",
       "      (bn2): BatchNorm2d(256, eps=1e-05, momentum=0.1, affine=True, track_running_stats=True)\n",
       "      (downsample): Sequential(\n",
       "        (0): Conv2d(128, 256, kernel_size=(1, 1), stride=(2, 2), bias=False)\n",
       "        (1): BatchNorm2d(256, eps=1e-05, momentum=0.1, affine=True, track_running_stats=True)\n",
       "      )\n",
       "    )\n",
       "    (1): BasicBlock(\n",
       "      (conv1): Conv2d(256, 256, kernel_size=(3, 3), stride=(1, 1), padding=(1, 1), bias=False)\n",
       "      (bn1): BatchNorm2d(256, eps=1e-05, momentum=0.1, affine=True, track_running_stats=True)\n",
       "      (relu): ReLU(inplace=True)\n",
       "      (conv2): Conv2d(256, 256, kernel_size=(3, 3), stride=(1, 1), padding=(1, 1), bias=False)\n",
       "      (bn2): BatchNorm2d(256, eps=1e-05, momentum=0.1, affine=True, track_running_stats=True)\n",
       "    )\n",
       "  )\n",
       "  (layer4): Sequential(\n",
       "    (0): BasicBlock(\n",
       "      (conv1): Conv2d(256, 512, kernel_size=(3, 3), stride=(2, 2), padding=(1, 1), bias=False)\n",
       "      (bn1): BatchNorm2d(512, eps=1e-05, momentum=0.1, affine=True, track_running_stats=True)\n",
       "      (relu): ReLU(inplace=True)\n",
       "      (conv2): Conv2d(512, 512, kernel_size=(3, 3), stride=(1, 1), padding=(1, 1), bias=False)\n",
       "      (bn2): BatchNorm2d(512, eps=1e-05, momentum=0.1, affine=True, track_running_stats=True)\n",
       "      (downsample): Sequential(\n",
       "        (0): Conv2d(256, 512, kernel_size=(1, 1), stride=(2, 2), bias=False)\n",
       "        (1): BatchNorm2d(512, eps=1e-05, momentum=0.1, affine=True, track_running_stats=True)\n",
       "      )\n",
       "    )\n",
       "    (1): BasicBlock(\n",
       "      (conv1): Conv2d(512, 512, kernel_size=(3, 3), stride=(1, 1), padding=(1, 1), bias=False)\n",
       "      (bn1): BatchNorm2d(512, eps=1e-05, momentum=0.1, affine=True, track_running_stats=True)\n",
       "      (relu): ReLU(inplace=True)\n",
       "      (conv2): Conv2d(512, 512, kernel_size=(3, 3), stride=(1, 1), padding=(1, 1), bias=False)\n",
       "      (bn2): BatchNorm2d(512, eps=1e-05, momentum=0.1, affine=True, track_running_stats=True)\n",
       "    )\n",
       "  )\n",
       "  (avgpool): AdaptiveAvgPool2d(output_size=(1, 1))\n",
       "  (fc): Linear(in_features=512, out_features=1000, bias=True)\n",
       ")"
      ]
     },
     "execution_count": 24,
     "metadata": {},
     "output_type": "execute_result"
    }
   ],
   "source": [
    "resnet_model = torchvision.models.resnet18(weights='IMAGENET1K_V1')\n",
    "resnet_model"
   ]
  },
  {
   "cell_type": "markdown",
   "id": "17c10555-c353-474c-87e9-c79cef00f436",
   "metadata": {},
   "source": [
    "A major issue that we need to address is that ResNet18 was designed to ingest images with three channels (R, G, B). Our MNIST images have a single (greyscale) channel. Another issue is that Imagenet has 1,000 different classes. We only have 10.\n",
    "\n",
    "## Addressing Input Channel Discrepancy\n",
    "\n",
    "The first layer in ResNet18 is a convolutional layer that expects inputs with three channels. The following code block shows how to access this model layer."
   ]
  },
  {
   "cell_type": "code",
   "execution_count": 25,
   "id": "14602ef5-ac52-4cbc-8eee-abb0ffd9784a",
   "metadata": {},
   "outputs": [
    {
     "data": {
      "text/plain": [
       "Conv2d(3, 64, kernel_size=(7, 7), stride=(2, 2), padding=(3, 3), bias=False)"
      ]
     },
     "execution_count": 25,
     "metadata": {},
     "output_type": "execute_result"
    }
   ],
   "source": [
    "resnet_model.conv1"
   ]
  },
  {
   "cell_type": "markdown",
   "id": "b5aee985-3894-494f-9d97-1c3977046ea9",
   "metadata": {},
   "source": [
    "Since we want to retain the information the network has learned, we will modify the feature data so that pixel values are duplicated across three channels. The following code block updates our `MNISTDataset` class to accept a set of transforms via a `transform` argument."
   ]
  },
  {
   "cell_type": "code",
   "execution_count": 26,
   "id": "a1343aeb-7ec7-4990-bc74-6858405e337a",
   "metadata": {},
   "outputs": [],
   "source": [
    "# Custom Dataset class\n",
    "class MNISTDataset(Dataset):\n",
    "    def __init__(self, features, targets, transform=None):\n",
    "        self.features = features\n",
    "        self.targets = targets\n",
    "        self.transform = transform\n",
    "\n",
    "    def __len__(self):\n",
    "        return len(self.features)\n",
    "\n",
    "    def __getitem__(self, idx):\n",
    "        \n",
    "        image = self.features[idx].reshape(28, 28).astype('float32')\n",
    "        label = self.targets[idx].astype('float32')\n",
    "\n",
    "        if self.transform:\n",
    "            image = self.transform(image)\n",
    "            \n",
    "        return torch.tensor(image), torch.tensor(label)"
   ]
  },
  {
   "cell_type": "markdown",
   "id": "60dab750-8677-4c67-8ef7-e1b55878799b",
   "metadata": {},
   "source": [
    "The following code block uses the `transforms` module from `torchvision` to define a suitable transform sequence. These will vary by model, so you need to refer to the PyTorch documentation for the pretrained model you are using."
   ]
  },
  {
   "cell_type": "code",
   "execution_count": 27,
   "id": "25aed44c-2929-44af-8c79-090164f2d168",
   "metadata": {},
   "outputs": [],
   "source": [
    "from torchvision import transforms\n",
    "\n",
    "transform = transforms.Compose([\n",
    "    transforms.ToPILImage(),\n",
    "    transforms.Resize((224, 224)),\n",
    "    transforms.Grayscale(num_output_channels=3),\n",
    "    transforms.ToTensor(),\n",
    "    transforms.Normalize(mean=[0.485, 0.456, 0.406], std=[0.229, 0.224, 0.225]),\n",
    "])"
   ]
  },
  {
   "cell_type": "markdown",
   "id": "acaa67e9-2a4e-4585-a80f-5ecb32094828",
   "metadata": {},
   "source": [
    "The following code block recreates the Dataloader objects using the defined transform sequence. There is one important difference: We will only use 2,000 images to train. Since we are starting from a pretained model, we should be able to get a good result with less data."
   ]
  },
  {
   "cell_type": "code",
   "execution_count": 28,
   "id": "30a13c12-3e36-4611-8851-b06a03c7eb18",
   "metadata": {},
   "outputs": [],
   "source": [
    "# Load data from parquet files\n",
    "feature_data_filepath = pathlib.Path('data/mnist_features.parquet')\n",
    "target_data_filepath = pathlib.Path('data/mnist_target.parquet')\n",
    "\n",
    "feature_data = pl.read_parquet(\n",
    "    feature_data_filepath\n",
    ")\n",
    "\n",
    "target_data = pl.read_parquet(\n",
    "    target_data_filepath\n",
    ").cast(\n",
    "    pl.Int32\n",
    ").to_dummies()\n",
    "\n",
    "# Convert to numpy arrays\n",
    "X = feature_data.to_numpy()\n",
    "y = target_data = target_data.to_numpy()\n",
    "\n",
    "# Split the data into training (70%), validation (10%), and test (20%) sets\n",
    "X_train_val, X_test, y_train_val, y_test = train_test_split(\n",
    "    X, \n",
    "    y, \n",
    "    test_size=0.20, \n",
    "    random_state=42,\n",
    ")\n",
    "X_train, X_val, y_train, y_val = train_test_split(\n",
    "    X_train_val, \n",
    "    y_train_val, \n",
    "    train_size=2_000, \n",
    "    random_state=42,\n",
    ")\n",
    "\n",
    "# Create Dataset objects\n",
    "train_dataset = MNISTDataset(X_train, y_train, transform=transform)\n",
    "val_dataset = MNISTDataset(X_val, y_val, transform=transform)\n",
    "test_dataset = MNISTDataset(X_test, y_test, transform=transform)\n",
    "\n",
    "train_loader = DataLoader(\n",
    "    dataset=train_dataset, \n",
    "    batch_size=batch_size, \n",
    "    shuffle=True,\n",
    ")\n",
    "val_loader = DataLoader(\n",
    "    dataset=val_dataset, \n",
    "    batch_size=batch_size, \n",
    "    shuffle=False,\n",
    ")\n",
    "test_loader = DataLoader(\n",
    "    dataset=test_dataset, \n",
    "    batch_size=batch_size, \n",
    "    shuffle=False,\n",
    ")"
   ]
  },
  {
   "cell_type": "markdown",
   "id": "da52eb8e-fa6a-4187-8166-045530dbbb10",
   "metadata": {},
   "source": [
    "## Addressing Output Number Discrepancy\n",
    "\n",
    "The following code block shows how we can access the final output layer of the AlexNet model."
   ]
  },
  {
   "cell_type": "code",
   "execution_count": 29,
   "id": "241eb737-80e1-4c11-89e4-164977d73eb8",
   "metadata": {},
   "outputs": [
    {
     "data": {
      "text/plain": [
       "Linear(in_features=512, out_features=1000, bias=True)"
      ]
     },
     "execution_count": 29,
     "metadata": {},
     "output_type": "execute_result"
    }
   ],
   "source": [
    "resnet_model.fc"
   ]
  },
  {
   "cell_type": "markdown",
   "id": "1960bad6-23ae-464f-b594-ef99cb26a4c6",
   "metadata": {},
   "source": [
    "The following code block replaces the final layer with a new linear layer that maintains the same parameters as the original with the exception that it has 10 output features."
   ]
  },
  {
   "cell_type": "code",
   "execution_count": 30,
   "id": "6581a0bf-0ff3-46d5-8ae1-da6ac84f6887",
   "metadata": {},
   "outputs": [
    {
     "data": {
      "text/plain": [
       "Linear(in_features=512, out_features=10, bias=True)"
      ]
     },
     "execution_count": 30,
     "metadata": {},
     "output_type": "execute_result"
    }
   ],
   "source": [
    "resnet_model.fc = resnet_model.fc = nn.Linear(\n",
    "    in_features=resnet_model.fc.in_features,\n",
    "    out_features=10,\n",
    "    bias=True,\n",
    ")\n",
    "resnet_model.fc"
   ]
  },
  {
   "cell_type": "markdown",
   "id": "34a07abd-e83f-4159-a519-642661a04925",
   "metadata": {},
   "source": [
    "## Fine-tuning the revised model\n",
    "\n",
    "The following code block runs the fine-tuning without tracking validation set performance."
   ]
  },
  {
   "cell_type": "code",
   "execution_count": 31,
   "id": "acd3632e-0906-4e28-adf5-cee329af909a",
   "metadata": {},
   "outputs": [
    {
     "name": "stderr",
     "output_type": "stream",
     "text": [
      "/tmp/ipykernel_14508/3281264605.py:19: UserWarning: To copy construct from a tensor, it is recommended to use sourceTensor.clone().detach() or sourceTensor.clone().detach().requires_grad_(True), rather than torch.tensor(sourceTensor).\n",
      "  return torch.tensor(image), torch.tensor(label)\n"
     ]
    },
    {
     "name": "stdout",
     "output_type": "stream",
     "text": [
      "Epoch [1/10], Training Loss: 0.3973\n",
      "Epoch [2/10], Training Loss: 0.0943\n",
      "Epoch [3/10], Training Loss: 0.0504\n",
      "Epoch [4/10], Training Loss: 0.0180\n",
      "Epoch [5/10], Training Loss: 0.0094\n",
      "Epoch [6/10], Training Loss: 0.0450\n",
      "Epoch [7/10], Training Loss: 0.0304\n",
      "Epoch [8/10], Training Loss: 0.0146\n",
      "Epoch [9/10], Training Loss: 0.0217\n",
      "Epoch [10/10], Training Loss: 0.0208\n",
      " - Training for 10 epochs took 52.70 seconds.\n",
      "Accuracy of the model on the test images: 94.81%\n"
     ]
    }
   ],
   "source": [
    "resnet_model = resnet_model.to(device)\n",
    "criterion = nn.CrossEntropyLoss()\n",
    "optimizer = optim.Adam(resnet_model.parameters(), lr=learning_rate)\n",
    "\n",
    "start_time = time.time()\n",
    "\n",
    "training_history = []\n",
    "for epoch in range(10):\n",
    "    resnet_model.train()\n",
    "    running_training_loss = 0.0\n",
    "    for images, labels in train_loader:\n",
    "        images = images.to(device)\n",
    "        labels = labels.to(device)\n",
    "        optimizer.zero_grad()\n",
    "        outputs = resnet_model(images)\n",
    "        loss = criterion(outputs, labels)\n",
    "        loss.backward()\n",
    "        optimizer.step()\n",
    "        running_training_loss += loss.item()\n",
    "\n",
    "    training_loss = running_training_loss / len(train_loader)\n",
    "    training_history.append({\n",
    "        'epoch': epoch+1,\n",
    "        'phase': 'Training',\n",
    "        'loss': training_loss\n",
    "    })\n",
    "\n",
    "    print(f\"Epoch [{epoch+1}/{num_epochs}], Training Loss: {training_loss:.4f}\")\n",
    "\n",
    "end_time = time.time()\n",
    "elapsed_time = end_time - start_time\n",
    "print(f' - Training for {num_epochs} epochs took {elapsed_time:.2f} seconds.')\n",
    "\n",
    "resnet_model.eval()\n",
    "correct = 0\n",
    "total = 0\n",
    "with torch.no_grad():\n",
    "    for images, labels in test_loader:\n",
    "        images = images.to(device)\n",
    "        labels = labels.to(device)\n",
    "        outputs = resnet_model(images)\n",
    "        _, predicted = torch.max(outputs.data, 1)\n",
    "        total += labels.size(0)\n",
    "        correct += (predicted == labels.argmax(axis=1)).sum().item()\n",
    "print(f\"Accuracy of the model on the test images: {100 * correct / total:.2f}%\")"
   ]
  },
  {
   "cell_type": "markdown",
   "id": "4e3a4fa0-4853-4801-8a45-431f76cfce0d",
   "metadata": {},
   "source": [
    "**Acknowledgement**: This document was generated with the assistance of AI-based language modeling (via ChatGPT, OpenAI)."
   ]
  },
  {
   "cell_type": "code",
   "execution_count": null,
   "id": "3ef7c8f6-df2c-4720-84bd-11361f902edb",
   "metadata": {},
   "outputs": [],
   "source": []
  }
 ],
 "metadata": {
  "kernelspec": {
   "display_name": "Python 3 (ipykernel)",
   "language": "python",
   "name": "python3"
  },
  "language_info": {
   "codemirror_mode": {
    "name": "ipython",
    "version": 3
   },
   "file_extension": ".py",
   "mimetype": "text/x-python",
   "name": "python",
   "nbconvert_exporter": "python",
   "pygments_lexer": "ipython3",
   "version": "3.12.3"
  }
 },
 "nbformat": 4,
 "nbformat_minor": 5
}
